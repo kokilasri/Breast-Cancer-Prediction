{
  "nbformat": 4,
  "nbformat_minor": 0,
  "metadata": {
    "colab": {
      "name": "Spam Mail Prediction.ipynb",
      "provenance": [],
      "authorship_tag": "ABX9TyM+/FM/eoeRHxabf6TJA7em",
      "include_colab_link": true
    },
    "kernelspec": {
      "name": "python3",
      "display_name": "Python 3"
    }
  },
  "cells": [
    {
      "cell_type": "markdown",
      "metadata": {
        "id": "view-in-github",
        "colab_type": "text"
      },
      "source": [
        "<a href=\"https://colab.research.google.com/github/kokilasri/Breast-Cancer-Prediction/blob/main/Spam_Mail_Prediction.ipynb\" target=\"_parent\"><img src=\"https://colab.research.google.com/assets/colab-badge.svg\" alt=\"Open In Colab\"/></a>"
      ]
    },
    {
      "cell_type": "code",
      "metadata": {
        "id": "JtwF2cpOtQfc"
      },
      "source": [
        "# import libraries\n",
        "\n",
        "import numpy as np\n",
        "import pandas as pd\n",
        "from sklearn.model_selection import train_test_split\n",
        "from sklearn.feature_extraction.text import TfidfVectorizer\n",
        "from sklearn.svm import LinearSVC\n",
        "from sklearn.metrics import accuracy_score"
      ],
      "execution_count": null,
      "outputs": []
    },
    {
      "cell_type": "markdown",
      "metadata": {
        "id": "s3RiU4RdviVU"
      },
      "source": [
        "# Data preprocessing"
      ]
    },
    {
      "cell_type": "code",
      "metadata": {
        "id": "wcBbyWrTvgUF"
      },
      "source": [
        "# load dataset to pandas dataframe\n",
        "raw_data = pd.read_csv('spamham.csv')\n",
        "# replace null values with null stream\n",
        "mail_data = raw_data.where((pd.notnull(raw_data)), '')"
      ],
      "execution_count": null,
      "outputs": []
    },
    {
      "cell_type": "code",
      "metadata": {
        "colab": {
          "base_uri": "https://localhost:8080/"
        },
        "id": "98cPGA-9wXqf",
        "outputId": "c1cc1206-0067-45d6-c7fc-a598cb157d77"
      },
      "source": [
        "mail_data.shape"
      ],
      "execution_count": null,
      "outputs": [
        {
          "output_type": "execute_result",
          "data": {
            "text/plain": [
              "(5572, 2)"
            ]
          },
          "metadata": {
            "tags": []
          },
          "execution_count": 4
        }
      ]
    },
    {
      "cell_type": "code",
      "metadata": {
        "colab": {
          "base_uri": "https://localhost:8080/",
          "height": 195
        },
        "id": "8HZYLug8wZ5G",
        "outputId": "3ef57e0d-1295-4e91-e80b-838665834ceb"
      },
      "source": [
        "mail_data.head()"
      ],
      "execution_count": null,
      "outputs": [
        {
          "output_type": "execute_result",
          "data": {
            "text/html": [
              "<div>\n",
              "<style scoped>\n",
              "    .dataframe tbody tr th:only-of-type {\n",
              "        vertical-align: middle;\n",
              "    }\n",
              "\n",
              "    .dataframe tbody tr th {\n",
              "        vertical-align: top;\n",
              "    }\n",
              "\n",
              "    .dataframe thead th {\n",
              "        text-align: right;\n",
              "    }\n",
              "</style>\n",
              "<table border=\"1\" class=\"dataframe\">\n",
              "  <thead>\n",
              "    <tr style=\"text-align: right;\">\n",
              "      <th></th>\n",
              "      <th>Category</th>\n",
              "      <th>Message</th>\n",
              "    </tr>\n",
              "  </thead>\n",
              "  <tbody>\n",
              "    <tr>\n",
              "      <th>0</th>\n",
              "      <td>ham</td>\n",
              "      <td>Go until jurong point, crazy.. Available only ...</td>\n",
              "    </tr>\n",
              "    <tr>\n",
              "      <th>1</th>\n",
              "      <td>ham</td>\n",
              "      <td>Ok lar... Joking wif u oni...</td>\n",
              "    </tr>\n",
              "    <tr>\n",
              "      <th>2</th>\n",
              "      <td>spam</td>\n",
              "      <td>Free entry in 2 a wkly comp to win FA Cup fina...</td>\n",
              "    </tr>\n",
              "    <tr>\n",
              "      <th>3</th>\n",
              "      <td>ham</td>\n",
              "      <td>U dun say so early hor... U c already then say...</td>\n",
              "    </tr>\n",
              "    <tr>\n",
              "      <th>4</th>\n",
              "      <td>ham</td>\n",
              "      <td>Nah I don't think he goes to usf, he lives aro...</td>\n",
              "    </tr>\n",
              "  </tbody>\n",
              "</table>\n",
              "</div>"
            ],
            "text/plain": [
              "  Category                                            Message\n",
              "0      ham  Go until jurong point, crazy.. Available only ...\n",
              "1      ham                      Ok lar... Joking wif u oni...\n",
              "2     spam  Free entry in 2 a wkly comp to win FA Cup fina...\n",
              "3      ham  U dun say so early hor... U c already then say...\n",
              "4      ham  Nah I don't think he goes to usf, he lives aro..."
            ]
          },
          "metadata": {
            "tags": []
          },
          "execution_count": 5
        }
      ]
    },
    {
      "cell_type": "code",
      "metadata": {
        "id": "lFGcGjE1wqm3"
      },
      "source": [
        "#label spam mail as 0 and non spam mail as 1\n",
        "mail_data.loc[mail_data['Category'] == 'spam' , 'Category',] = 0\n",
        "mail_data.loc[mail_data['Category'] == 'ham', 'Category',] = 1"
      ],
      "execution_count": null,
      "outputs": []
    },
    {
      "cell_type": "code",
      "metadata": {
        "id": "3e7-u6ovxZk3"
      },
      "source": [
        "#seperate the data as test and label\n",
        "# X -> test, Y->labels\n",
        "X = mail_data['Message']\n",
        "Y = mail_data['Category']\n"
      ],
      "execution_count": null,
      "outputs": []
    },
    {
      "cell_type": "code",
      "metadata": {
        "colab": {
          "base_uri": "https://localhost:8080/"
        },
        "id": "VdQjs57nxw8I",
        "outputId": "5f14ac09-2d09-4e68-9b07-e3c6dab4ec8f"
      },
      "source": [
        "X"
      ],
      "execution_count": null,
      "outputs": [
        {
          "output_type": "execute_result",
          "data": {
            "text/plain": [
              "0       Go until jurong point, crazy.. Available only ...\n",
              "1                           Ok lar... Joking wif u oni...\n",
              "2       Free entry in 2 a wkly comp to win FA Cup fina...\n",
              "3       U dun say so early hor... U c already then say...\n",
              "4       Nah I don't think he goes to usf, he lives aro...\n",
              "                              ...                        \n",
              "5567    This is the 2nd time we have tried 2 contact u...\n",
              "5568                 Will ü b going to esplanade fr home?\n",
              "5569    Pity, * was in mood for that. So...any other s...\n",
              "5570    The guy did some bitching but I acted like i'd...\n",
              "5571                           Rofl. Its true to its name\n",
              "Name: Message, Length: 5572, dtype: object"
            ]
          },
          "metadata": {
            "tags": []
          },
          "execution_count": 9
        }
      ]
    },
    {
      "cell_type": "code",
      "metadata": {
        "colab": {
          "base_uri": "https://localhost:8080/"
        },
        "id": "HkhW5U38xypo",
        "outputId": "4af38686-54b8-4295-a2da-ebae9b993c01"
      },
      "source": [
        "Y"
      ],
      "execution_count": null,
      "outputs": [
        {
          "output_type": "execute_result",
          "data": {
            "text/plain": [
              "0       1\n",
              "1       1\n",
              "2       0\n",
              "3       1\n",
              "4       1\n",
              "       ..\n",
              "5567    0\n",
              "5568    1\n",
              "5569    1\n",
              "5570    1\n",
              "5571    1\n",
              "Name: Category, Length: 5572, dtype: object"
            ]
          },
          "metadata": {
            "tags": []
          },
          "execution_count": 10
        }
      ]
    },
    {
      "cell_type": "markdown",
      "metadata": {
        "id": "rWOtHCm3yDvq"
      },
      "source": [
        "# Train Test Split"
      ]
    },
    {
      "cell_type": "code",
      "metadata": {
        "id": "YFrkNq8Hx1L1"
      },
      "source": [
        "# split the data as train and test data\n",
        "X_train, X_test, Y_train, Y_test = train_test_split(X, Y, train_size=0.8, test_size=0.2, random_state=3)"
      ],
      "execution_count": null,
      "outputs": []
    },
    {
      "cell_type": "markdown",
      "metadata": {
        "id": "dLo17HnIykSA"
      },
      "source": [
        "#Feature extraction"
      ]
    },
    {
      "cell_type": "code",
      "metadata": {
        "id": "sslPD35pyebO"
      },
      "source": [
        "# transform the data into feature vectors that can be used as input to the SVM model using Tfidf Vectorisation\n",
        "#convert the text to lower case letters\n",
        "feature_extraction = TfidfVectorizer(min_df=1, stop_words='english', lowercase='True')\n",
        "X_train_features = feature_extraction.fit_transform(X_train)\n",
        "X_test_features = feature_extraction.transform(X_test)\n",
        "\n",
        "#convert ytrain and ytest values to integers\n",
        "Y_train = Y_train.astype('int')\n",
        "Y_test = Y_test.astype('int')"
      ],
      "execution_count": null,
      "outputs": []
    },
    {
      "cell_type": "markdown",
      "metadata": {
        "id": "iWki7uWz0A9D"
      },
      "source": [
        "#Training the model using Supprot vector machine"
      ]
    },
    {
      "cell_type": "code",
      "metadata": {
        "colab": {
          "base_uri": "https://localhost:8080/"
        },
        "id": "-Cm4f8jjz5it",
        "outputId": "157196eb-b453-402a-d605-89d98ddd0fc2"
      },
      "source": [
        "#training the support vector machine\n",
        "model = LinearSVC()\n",
        "model.fit(X_train_features, Y_train)"
      ],
      "execution_count": null,
      "outputs": [
        {
          "output_type": "execute_result",
          "data": {
            "text/plain": [
              "LinearSVC(C=1.0, class_weight=None, dual=True, fit_intercept=True,\n",
              "          intercept_scaling=1, loss='squared_hinge', max_iter=1000,\n",
              "          multi_class='ovr', penalty='l2', random_state=None, tol=0.0001,\n",
              "          verbose=0)"
            ]
          },
          "metadata": {
            "tags": []
          },
          "execution_count": 15
        }
      ]
    },
    {
      "cell_type": "markdown",
      "metadata": {
        "id": "9RWqkEpU0o4y"
      },
      "source": [
        "#Evaluation on the model"
      ]
    },
    {
      "cell_type": "code",
      "metadata": {
        "id": "SFckhI3K0iYf"
      },
      "source": [
        "Prediction_traindata = model.predict(X_train_features)\n",
        "accuracy_traindata = accuracy_score(Y_train, Prediction_traindata)"
      ],
      "execution_count": null,
      "outputs": []
    },
    {
      "cell_type": "code",
      "metadata": {
        "colab": {
          "base_uri": "https://localhost:8080/"
        },
        "id": "CQ5XU8uC073t",
        "outputId": "71579b6b-92b0-4c0d-933e-a83fc3d50347"
      },
      "source": [
        "print('Accuracy of Training Data: ', accuracy_traindata)"
      ],
      "execution_count": null,
      "outputs": [
        {
          "output_type": "stream",
          "text": [
            "Accuracy of Training Data:  0.9993269015032533\n"
          ],
          "name": "stdout"
        }
      ]
    },
    {
      "cell_type": "code",
      "metadata": {
        "id": "mIr9jalt1UMy"
      },
      "source": [
        "prediction_testdata = model.predict(X_test_features)\n",
        "accuracy_testdata = accuracy_score(Y_test, prediction_testdata)"
      ],
      "execution_count": null,
      "outputs": []
    },
    {
      "cell_type": "code",
      "metadata": {
        "colab": {
          "base_uri": "https://localhost:8080/"
        },
        "id": "Uo3Rhgxn1tFt",
        "outputId": "9839610d-0e95-4d7e-f5e0-e890ecdbca55"
      },
      "source": [
        "print('Accuracy of Test Data: ', accuracy_testdata)"
      ],
      "execution_count": null,
      "outputs": [
        {
          "output_type": "stream",
          "text": [
            "Accuracy of Test Data:  0.9820627802690582\n"
          ],
          "name": "stdout"
        }
      ]
    },
    {
      "cell_type": "code",
      "metadata": {
        "colab": {
          "base_uri": "https://localhost:8080/"
        },
        "id": "NozW3vvI1z-4",
        "outputId": "efae5664-8bfe-4cd6-fc79-cf33d73d5db5"
      },
      "source": [
        "model.score(X_test_features, Y_test)"
      ],
      "execution_count": null,
      "outputs": [
        {
          "output_type": "execute_result",
          "data": {
            "text/plain": [
              "0.9820627802690582"
            ]
          },
          "metadata": {
            "tags": []
          },
          "execution_count": 24
        }
      ]
    },
    {
      "cell_type": "markdown",
      "metadata": {
        "id": "r7saxKrj1-_N"
      },
      "source": [
        "# Prediction on new mail"
      ]
    },
    {
      "cell_type": "code",
      "metadata": {
        "colab": {
          "base_uri": "https://localhost:8080/"
        },
        "id": "XDl4AHxJ14q1",
        "outputId": "f99e0051-6286-4772-c79d-2d938a6bb9e9"
      },
      "source": [
        "input_mail = [\"Free entry in 2 a wkly comp to win FA Cup final tkts 21st May 2005. Text FA to 87121 to receive entry question(std txt rate)T&C's apply 08452810075over18's\"]\n",
        "#convert text to features\n",
        "feature_extraction = TfidfVectorizer(min_df=1, stop_words='english', lowercase='True')\n",
        "X_train_features = feature_extraction.fit_transform(X_train)\n",
        "input_mail_features = feature_extraction.transform(input_mail)\n",
        "\n",
        "#predict the ans\n",
        "prediction = model.predict(input_mail_features)\n",
        "print(prediction)\n",
        "\n",
        "if (prediction[0] == 0):\n",
        "    print(\"This is a Spam Mail\")\n",
        "else:\n",
        "    print(\"This is a Ham Mail\")"
      ],
      "execution_count": null,
      "outputs": [
        {
          "output_type": "stream",
          "text": [
            "[0]\n",
            "This is a Spam Mail\n"
          ],
          "name": "stdout"
        }
      ]
    },
    {
      "cell_type": "code",
      "metadata": {
        "colab": {
          "base_uri": "https://localhost:8080/"
        },
        "id": "mIe1rSQE3SgZ",
        "outputId": "ae865c05-e9f0-4051-a821-dde8083f529c"
      },
      "source": [
        "input_mail = [\"I've been searching for the right words to thank you for this breather. I promise i wont take your help for granted and will fulfil my promise. You have been wonderful and a blessing at all times.\"]\n",
        "# convert text to feature vectors\n",
        "feature_extraction = TfidfVectorizer(min_df=1, stop_words='english', lowercase='True')\n",
        "X_train_features = feature_extraction.fit_transform(X_train)\n",
        "input_mail_features = feature_extraction.transform(input_mail)\n",
        "\n",
        "#making prediction\n",
        "prediction = model.predict(input_mail_features)\n",
        "print(prediction)\n",
        "\n",
        "if (prediction[0]==1):\n",
        "  print('HAM MAIL')\n",
        "else:\n",
        "  print('SPAM MAIL')"
      ],
      "execution_count": null,
      "outputs": [
        {
          "output_type": "stream",
          "text": [
            "[1]\n",
            "HAM MAIL\n"
          ],
          "name": "stdout"
        }
      ]
    },
    {
      "cell_type": "code",
      "metadata": {
        "id": "ZH3Toi2h4OoZ"
      },
      "source": [
        ""
      ],
      "execution_count": null,
      "outputs": []
    }
  ]
}